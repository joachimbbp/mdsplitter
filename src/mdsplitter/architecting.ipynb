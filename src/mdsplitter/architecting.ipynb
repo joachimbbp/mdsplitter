{
 "cells": [
  {
   "cell_type": "code",
   "execution_count": 1,
   "metadata": {},
   "outputs": [],
   "source": [
    "import os"
   ]
  },
  {
   "cell_type": "code",
   "execution_count": 2,
   "metadata": {},
   "outputs": [],
   "source": [
    "# Set temp paths\n",
    "main_note_path = \"/Users/joachimpfefferkorn/repos/mdsplitter/test_media/test_note.md\""
   ]
  },
  {
   "cell_type": "code",
   "execution_count": 37,
   "metadata": {},
   "outputs": [
    {
     "name": "stdout",
     "output_type": "stream",
     "text": [
      "- [[cats]]\n",
      "- [[dogs]]\n",
      "- [[humans]]\n",
      "- [[computers]]\n",
      "- [[cars]]\n",
      "- [[busses]]\n",
      "- [[bicycles]]\n",
      "\n",
      "{'cats': 'very cute and fluffy animal', 'dogs': 'very cute and fluffy, although high maintenance', 'humans': 'occasionally hard to deal with', 'computers': 'technically they are all the same (although we forget this sometimes)', 'cars': 'go fast', 'busses': 'go fast with lots of people', 'bicycles': 'goes slower than cars and busses but is more fun'}\n"
     ]
    }
   ],
   "source": [
    "def dict_from_notes(main_text):\n",
    "    notes = {}\n",
    "    for note in main_text.split(\"\\n\\n\"):\n",
    "        (raw_title, body) = note.split(\"**\\n\")\n",
    "        title = raw_title[2:-1]\n",
    "        notes[title] = body\n",
    "    return notes\n",
    "\n",
    "def write_note(title, body, base_path):\n",
    "    with open(f\"{base_path}/{title}.md\", 'w') as new_note:\n",
    "        new_note.write(body)\n",
    "\n",
    "def rewrite_main_note(notes, main_note_path):\n",
    "    new_body_text = \"\"\n",
    "    for note in notes:\n",
    "        new_body_text += (f\"- [[{note}]]\\n\")\n",
    "    print(new_body_text)\n",
    "    with open(main_note_path, 'w') as main_note:\n",
    "        main_note.write(new_body_text) #weird that we don't need to overwrite the og note explicitly\n",
    "\n",
    "with open(main_note_path, 'r') as main_note: #r+ for writing too\n",
    "    notes = dict_from_notes(main_note.read())\n",
    "    for note in notes:\n",
    "        write_note(note, notes[note], os.path.dirname(main_note_path))\n",
    "rewrite_main_note(notes, main_note_path)\n",
    "\n",
    "print(notes)"
   ]
  }
 ],
 "metadata": {
  "kernelspec": {
   "display_name": ".venv",
   "language": "python",
   "name": "python3"
  },
  "language_info": {
   "codemirror_mode": {
    "name": "ipython",
    "version": 3
   },
   "file_extension": ".py",
   "mimetype": "text/x-python",
   "name": "python",
   "nbconvert_exporter": "python",
   "pygments_lexer": "ipython3",
   "version": "3.11.5"
  }
 },
 "nbformat": 4,
 "nbformat_minor": 2
}
